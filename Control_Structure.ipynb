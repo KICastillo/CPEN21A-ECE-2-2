{
  "nbformat": 4,
  "nbformat_minor": 0,
  "metadata": {
    "colab": {
      "name": "Control Structure.ipynb",
      "provenance": [],
      "authorship_tag": "ABX9TyMwuGrpuD0GKNt+AIr2eIMv",
      "include_colab_link": true
    },
    "kernelspec": {
      "name": "python3",
      "display_name": "Python 3"
    },
    "language_info": {
      "name": "python"
    }
  },
  "cells": [
    {
      "cell_type": "markdown",
      "metadata": {
        "id": "view-in-github",
        "colab_type": "text"
      },
      "source": [
        "<a href=\"https://colab.research.google.com/github/KICastillo/CPEN21A-ECE-2-2/blob/main/Control_Structure.ipynb\" target=\"_parent\"><img src=\"https://colab.research.google.com/assets/colab-badge.svg\" alt=\"Open In Colab\"/></a>"
      ]
    },
    {
      "cell_type": "markdown",
      "metadata": {
        "id": "0gu0m2zeHRQy"
      },
      "source": [
        "###Example 1"
      ]
    },
    {
      "cell_type": "markdown",
      "metadata": {
        "id": "iRqlT5AqHspC"
      },
      "source": [
        "\n",
        "Write a program that determines if the input age is qualified to vote or not. The qualifying age is 18 yaers old and above."
      ]
    },
    {
      "cell_type": "code",
      "metadata": {
        "colab": {
          "base_uri": "https://localhost:8080/"
        },
        "id": "oeRoqK0iSCwl",
        "outputId": "5f70082e-8f44-48d4-9e54-e7d395d041d8"
      },
      "source": [
        "age = int(input(\"Enter age: \"))\n",
        "\n",
        "if age >= 18:\n",
        "  print(\"Eligible for Voting!\")\n",
        "else:\n",
        "  print(\"Not Eligible for Voting!\")"
      ],
      "execution_count": 24,
      "outputs": [
        {
          "output_type": "stream",
          "name": "stdout",
          "text": [
            "Enter age: 20\n",
            "Eligible for Voting!\n"
          ]
        }
      ]
    },
    {
      "cell_type": "markdown",
      "metadata": {
        "id": "Uyir2vc1Te86"
      },
      "source": [
        "###Example 2"
      ]
    },
    {
      "cell_type": "markdown",
      "metadata": {
        "id": "717hF8RXJ0JG"
      },
      "source": [
        "Write a program that determines if the input number is POSITIVE or NEGATIVE. Consider 0 as positive (considering that it contains no negative sign)."
      ]
    },
    {
      "cell_type": "code",
      "metadata": {
        "colab": {
          "base_uri": "https://localhost:8080/"
        },
        "id": "G2owT2cIKXme",
        "outputId": "0465820f-01f2-4f1e-ecbe-7301bc1b1c61"
      },
      "source": [
        "number= int(input(\"enter a number:\"))\n",
        "if number>0:\n",
        "  print(\"you entered a positive number\")\n",
        "elif number ==0:\n",
        "  print(\"you enetered 0\")\n",
        "else:\n",
        "  print(\"you entered negative number\")"
      ],
      "execution_count": 35,
      "outputs": [
        {
          "output_type": "stream",
          "name": "stdout",
          "text": [
            "enter a number:24\n",
            "you entered a positive number\n"
          ]
        }
      ]
    },
    {
      "cell_type": "markdown",
      "metadata": {
        "id": "dSr4rHH3M07g"
      },
      "source": [
        "###Example 3"
      ]
    },
    {
      "cell_type": "markdown",
      "metadata": {
        "id": "POOdjpCQT1To"
      },
      "source": [
        "Write a program to determine if the grades are:\n",
        "If:  grade > = 75, \"passed\"\n",
        "     grade = 74, \"remedial\"\n",
        "     grade < 74, \"failed\""
      ]
    },
    {
      "cell_type": "code",
      "metadata": {
        "colab": {
          "base_uri": "https://localhost:8080/"
        },
        "id": "Bsj1xYioVKFD",
        "outputId": "ef5a9e65-396a-4a27-ccab-0a317f1784dd"
      },
      "source": [
        "number= int(input(\"enter a number:\"))\n",
        "if number>=75:\n",
        "  print(\"passed\")\n",
        "if number ==74:\n",
        "  print(\"remidial\")\n",
        "if number <74:\n",
        "  print(\"failed\")"
      ],
      "execution_count": 34,
      "outputs": [
        {
          "output_type": "stream",
          "name": "stdout",
          "text": [
            "enter a number:86\n",
            "passed\n"
          ]
        }
      ]
    }
  ]
}