{
  "nbformat": 4,
  "nbformat_minor": 0,
  "metadata": {
    "colab": {
      "name": "Midterm Exam.ipynb",
      "provenance": [],
      "authorship_tag": "ABX9TyNwz3fV9bW76eR2nONoVfmz",
      "include_colab_link": true
    },
    "kernelspec": {
      "name": "python3",
      "display_name": "Python 3"
    },
    "language_info": {
      "name": "python"
    }
  },
  "cells": [
    {
      "cell_type": "markdown",
      "metadata": {
        "id": "view-in-github",
        "colab_type": "text"
      },
      "source": [
        "<a href=\"https://colab.research.google.com/github/KICastillo/CPEN21A-ECE-2-2/blob/main/Midterm_Exam.ipynb\" target=\"_parent\"><img src=\"https://colab.research.google.com/assets/colab-badge.svg\" alt=\"Open In Colab\"/></a>"
      ]
    },
    {
      "cell_type": "markdown",
      "metadata": {
        "id": "8M1W7XOED8Wk"
      },
      "source": [
        "###Problem Statement 1"
      ]
    },
    {
      "cell_type": "code",
      "metadata": {
        "colab": {
          "base_uri": "https://localhost:8080/"
        },
        "id": "sKN9f3_nEEoS",
        "outputId": "a11e9f3a-8a51-4b4f-ce79-366b0cab9c6d"
      },
      "source": [
        "first_name = 'Keith Ivan'\n",
        "last_name = 'Castillo'\n",
        "full_name = first_name + ' ' + last_name\n",
        "print(full_name)\n",
        "\n",
        "student_number = '202010758'\n",
        "print (student_number)\n",
        "\n",
        "age = '20 years old'\n",
        "print (age)\n",
        "\n",
        "birthdate = 'September 24 ,2001'\n",
        "print (birthdate)\n",
        "\n",
        "address = 'Marycris Complex, General Trias, Cavite'\n",
        "print (address)\n",
        "\n",
        "course = 'BSECE'\n",
        "print (course)\n",
        "\n",
        "gwa ='1.58'\n",
        "print (gwa)"
      ],
      "execution_count": null,
      "outputs": [
        {
          "output_type": "stream",
          "name": "stdout",
          "text": [
            "Keith Ivan Castillo\n",
            "202010758\n",
            "20 years old\n",
            "September 24 ,2001\n",
            "Marycris Complex, General Trias, Cavite\n",
            "BSECE\n",
            "1.58\n"
          ]
        }
      ]
    },
    {
      "cell_type": "markdown",
      "metadata": {
        "id": "G-TYx7JPEGwX"
      },
      "source": [
        "###Problem Statement 2"
      ]
    },
    {
      "cell_type": "code",
      "metadata": {
        "colab": {
          "base_uri": "https://localhost:8080/"
        },
        "id": "krcvLFsDEQLv",
        "outputId": "588584a0-1811-4621-ae9a-338bace56fa2"
      },
      "source": [
        "n = 4\n",
        "answ=\"Y\"\n",
        "print(2<n and n<6)\n",
        "print(2<n or n==6)\n",
        "print(not 2<n or n==6)\n",
        "print(not n<6)\n",
        "print(answ==\"y\" or answ==\"y\")\n",
        "print(answ==\"y\" and answ==\"y\") \n",
        "print(not answ==\"y\")\n",
        "print((2<n and n==5+1) or answ==\"No\")\n",
        "print((n==2 and n==7) or answ==\"Y\")\n",
        "print(n==2 and (n==7 or answ==\"Y\"))"
      ],
      "execution_count": null,
      "outputs": [
        {
          "output_type": "stream",
          "name": "stdout",
          "text": [
            "True\n",
            "True\n",
            "False\n",
            "False\n",
            "False\n",
            "False\n",
            "True\n",
            "False\n",
            "True\n",
            "False\n"
          ]
        }
      ]
    },
    {
      "cell_type": "markdown",
      "metadata": {
        "id": "d5cGYkSrEU7a"
      },
      "source": [
        "###Problem Statement 3"
      ]
    },
    {
      "cell_type": "code",
      "metadata": {
        "colab": {
          "base_uri": "https://localhost:8080/"
        },
        "id": "hIlHKd4rEZW-",
        "outputId": "f23d3c64-68cd-4bd1-977d-4e8f1c1b08ab"
      },
      "source": [
        "\n",
        "x = 2\n",
        "y = -3\n",
        "w = 7\n",
        "z = -10\n",
        "print( x / y)\n",
        "print( w / y / x)\n",
        "print( z / y % x)\n",
        "print( x % (-y) * w)\n",
        "print( x % y)\n",
        "print( z % w - y / x * 5 + 5)\n",
        "print( 9-x % ( 2 + y ) )\n",
        "print( z // w)\n",
        "print((2+y)**2)\n",
        "print( w / x * 2)"
      ],
      "execution_count": null,
      "outputs": [
        {
          "output_type": "stream",
          "name": "stdout",
          "text": [
            "-0.6666666666666666\n",
            "-1.1666666666666667\n",
            "1.3333333333333335\n",
            "14\n",
            "-1\n",
            "16.5\n",
            "9\n",
            "-2\n",
            "1\n",
            "7.0\n"
          ]
        }
      ]
    }
  ]
}