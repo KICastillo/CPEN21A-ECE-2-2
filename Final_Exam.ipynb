{
  "nbformat": 4,
  "nbformat_minor": 0,
  "metadata": {
    "colab": {
      "name": "Final Exam.ipynb",
      "provenance": [],
      "authorship_tag": "ABX9TyNB0a9ovci+EhNF9tsZ42Lg",
      "include_colab_link": true
    },
    "kernelspec": {
      "name": "python3",
      "display_name": "Python 3"
    },
    "language_info": {
      "name": "python"
    }
  },
  "cells": [
    {
      "cell_type": "markdown",
      "metadata": {
        "id": "view-in-github",
        "colab_type": "text"
      },
      "source": [
        "<a href=\"https://colab.research.google.com/github/KICastillo/CPEN21A-ECE-2-2/blob/main/Final_Exam.ipynb\" target=\"_parent\"><img src=\"https://colab.research.google.com/assets/colab-badge.svg\" alt=\"Open In Colab\"/></a>"
      ]
    },
    {
      "cell_type": "markdown",
      "source": [
        "###Problem Statement 1: Create a Python program that will produce an output of sum of 10 numbers that are less than 5\n",
        "using FOR LOOP statement"
      ],
      "metadata": {
        "id": "gFzuKPNFHBWO"
      }
    },
    {
      "cell_type": "code",
      "source": [
        "arr = []\n",
        "array = [1,2,3,4,5,6,7,8,9,10]\n",
        "i = 0\n",
        "for x in array:\n",
        "    while i < 10:  \n",
        "        temp = int(input(\"Enter a Number: \"))\n",
        "        if temp < 5:\n",
        "            arr.append(temp)\n",
        "            i+=1\n",
        "        else:\n",
        "            print(\"Enter a number less than 5\")\n",
        "print(sum(arr))"
      ],
      "metadata": {
        "colab": {
          "base_uri": "https://localhost:8080/"
        },
        "id": "FwTY0VrKH3_c",
        "outputId": "26fef00a-7625-4db8-c73a-3135f85c0439"
      },
      "execution_count": 3,
      "outputs": [
        {
          "output_type": "stream",
          "name": "stdout",
          "text": [
            "Enter a Number: 4\n",
            "Enter a Number: 4\n",
            "Enter a Number: 3\n",
            "Enter a Number: 2\n",
            "Enter a Number: 3\n",
            "Enter a Number: 4\n",
            "Enter a Number: 5\n",
            "Enter a number less than 5\n",
            "Enter a Number: 3\n",
            "Enter a Number: 5\n",
            "Enter a number less than 5\n",
            "Enter a Number: 7\n",
            "Enter a number less than 5\n",
            "Enter a Number: 2\n",
            "Enter a Number: 1\n",
            "Enter a Number: 2\n",
            "28\n"
          ]
        }
      ]
    },
    {
      "cell_type": "markdown",
      "source": [
        "###Probem Statement 2: Create a Python program that will produce accept five numbers and determine the sum of\n",
        "first and last number among the five numbers entered using WHILE LOOP"
      ],
      "metadata": {
        "id": "vc9Wbqr1JCD9"
      }
    },
    {
      "cell_type": "code",
      "source": [
        "arr=[]\n",
        "number=5\n",
        "i=0\n",
        "while (i != number):\n",
        "  temp = int(input(\"Enter a Number: \"))\n",
        "  i=i+1\n",
        "  arr.append(temp)\n",
        "sum=arr[0]+arr[number-1]\n",
        "print(\"The sum of first and last number is\")\n",
        "print(sum)"
      ],
      "metadata": {
        "colab": {
          "base_uri": "https://localhost:8080/"
        },
        "id": "BKtyjCDRJQFE",
        "outputId": "9a2fb7e2-afa4-418a-ff71-4777fdce70bd"
      },
      "execution_count": 5,
      "outputs": [
        {
          "output_type": "stream",
          "name": "stdout",
          "text": [
            "Enter a Number: 24\n",
            "Enter a Number: 18\n",
            "Enter a Number: 75\n",
            "Enter a Number: 41\n",
            "Enter a Number: 9\n",
            "The sum of first and last number is\n",
            "33\n"
          ]
        }
      ]
    },
    {
      "cell_type": "markdown",
      "source": [
        "###Problem Statement 3: Create a Python program to calculate student grades. It accepts a numerical grade as input\n",
        "and it will display the character grade as output based on the given scale: (Use Nested-IF-Else\n",
        "statement)"
      ],
      "metadata": {
        "id": "0c19aTNZJ-uF"
      }
    },
    {
      "cell_type": "code",
      "source": [
        "grade = int(input(\"Enter your numerical grade:\"))\n",
        "if grade >=90 and grade <= 100:\n",
        "  print(\"Character grade:A\")\n",
        "elif grade >= 80 and grade <= 89:\n",
        "    print(\"Character grade:B\")\n",
        "elif grade >= 70 and grade <= 79:\n",
        "      print(\"Character grade:C\")\n",
        "elif grade >= 60 and grade <= 69:\n",
        "        print(\"Character grade:D\")\n",
        "elif grade <= 60 and grade > 0:\n",
        "          print(\"F\")\n",
        "else:\n",
        "  print(\"invalid input\")\n"
      ],
      "metadata": {
        "colab": {
          "base_uri": "https://localhost:8080/"
        },
        "id": "I1RswnFHKNFT",
        "outputId": "a9ee2910-f35c-4cd2-8332-218548a4575b"
      },
      "execution_count": 93,
      "outputs": [
        {
          "output_type": "stream",
          "name": "stdout",
          "text": [
            "Enter your numerical grade:98\n",
            "Character grade:A\n"
          ]
        }
      ]
    }
  ]
}