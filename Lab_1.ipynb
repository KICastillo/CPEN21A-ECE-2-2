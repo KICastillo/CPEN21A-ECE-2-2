{
  "nbformat": 4,
  "nbformat_minor": 0,
  "metadata": {
    "colab": {
      "name": "Lab 1.ipynb",
      "provenance": [],
      "authorship_tag": "ABX9TyOABuWXrTYdanPKNH9Lhqom",
      "include_colab_link": true
    },
    "kernelspec": {
      "name": "python3",
      "display_name": "Python 3"
    },
    "language_info": {
      "name": "python"
    }
  },
  "cells": [
    {
      "cell_type": "markdown",
      "metadata": {
        "id": "view-in-github",
        "colab_type": "text"
      },
      "source": [
        "<a href=\"https://colab.research.google.com/github/KICastillo/CPEN21A-ECE-2-2/blob/main/Lab_1.ipynb\" target=\"_parent\"><img src=\"https://colab.research.google.com/assets/colab-badge.svg\" alt=\"Open In Colab\"/></a>"
      ]
    },
    {
      "cell_type": "code",
      "execution_count": 1,
      "metadata": {
        "colab": {
          "base_uri": "https://localhost:8080/"
        },
        "id": "OZmtcSEqmbfB",
        "outputId": "cab4787a-51d4-4467-a6be-c34fe8da9782"
      },
      "outputs": [
        {
          "output_type": "stream",
          "name": "stdout",
          "text": [
            "Welcome to Python Programming\n"
          ]
        }
      ],
      "source": [
        "print(\"Welcome to Python Programming\")"
      ]
    },
    {
      "cell_type": "code",
      "source": [
        "first_name = 'Keith Ivan'\n",
        "last_name = 'Castillo'\n",
        "full_name = first_name + ' ' + last_name\n",
        "print(\"I am \" + full_name)\n",
        "age = '20'\n",
        "print (age + \" years old\")\n",
        "address = 'Marycris Complex, General Trias, Cavite'\n",
        "print (\"Live in \" + address)\n",
        "\n"
      ],
      "metadata": {
        "colab": {
          "base_uri": "https://localhost:8080/"
        },
        "id": "qf4NtWXDnva3",
        "outputId": "8c7e5088-6615-441e-eb13-752e83ce66f1"
      },
      "execution_count": 7,
      "outputs": [
        {
          "output_type": "stream",
          "name": "stdout",
          "text": [
            "I am Keith Ivan Castillo\n",
            "20 years old\n",
            "Live in Marycris Complex, General Trias, Cavite\n"
          ]
        }
      ]
    }
  ]
}